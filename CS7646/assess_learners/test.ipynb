{
 "cells": [
  {
   "cell_type": "code",
   "execution_count": 1,
   "metadata": {},
   "outputs": [
    {
     "name": "stdout",
     "output_type": "stream",
     "text": [
      "Out of sample results:\n",
      "RMSE: 0.007288142047537807\n",
      "Correlation: 0.6972253041904284\n"
     ]
    },
    {
     "name": "stderr",
     "output_type": "stream",
     "text": [
      "/home/wzsxb/anaconda3/lib/python3.10/site-packages/numpy/lib/function_base.py:2853: RuntimeWarning: invalid value encountered in divide\n",
      "  c /= stddev[:, None]\n",
      "/home/wzsxb/anaconda3/lib/python3.10/site-packages/numpy/lib/function_base.py:2854: RuntimeWarning: invalid value encountered in divide\n",
      "  c /= stddev[None, :]\n"
     ]
    }
   ],
   "source": [
    "import numpy as np\n",
    "import DTLearner as dt\n",
    "\n",
    "if __name__ == \"__main__\":\n",
    "    # Read the data from the file\n",
    "    data = np.genfromtxt('Data/Istanbul.csv', delimiter=',', skip_header=1)\n",
    "\n",
    "    # Remove the first column (date-time)\n",
    "    data = data[:, 1:]\n",
    "\n",
    "    # Separate the features (X) and the target values (Y)\n",
    "    X = data[:, :-1]\n",
    "    Y = data[:, -1]\n",
    "\n",
    "    # Create a DTLearner instance\n",
    "    learner = dt.DTLearner(leaf_size=1, verbose=False)\n",
    "\n",
    "    # Train the learner with 60% of the data\n",
    "    train_size = int(0.6 * data.shape[0])\n",
    "    train_X = X[:train_size]\n",
    "    train_Y = Y[:train_size]\n",
    "    learner.add_evidence(train_X, train_Y)\n",
    "\n",
    "    # Test the learner with the remaining 40% of the data\n",
    "    test_X = X[train_size:]\n",
    "    test_Y = Y[train_size:]\n",
    "    Y_pred = learner.query(test_X)\n",
    "\n",
    "    # Evaluate the model\n",
    "    rmse = np.sqrt(((test_Y - Y_pred) ** 2).mean())\n",
    "    corr = np.corrcoef(test_Y, Y_pred)[0, 1]\n",
    "\n",
    "    print(\"Out of sample results:\")\n",
    "    print(f\"RMSE: {rmse}\")\n",
    "    print(f\"Correlation: {corr}\")\n",
    "\n"
   ]
  },
  {
   "cell_type": "code",
   "execution_count": null,
   "metadata": {},
   "outputs": [],
   "source": [
    "import matplotlib.pyplot as plt\n",
    "\n",
    "# set the range of leaf_sizes\n",
    "leaf_sizes = range(1, 50)\n",
    "\n",
    "# these lists will store your RMSE values for each leaf size\n",
    "in_sample_rmses = []\n",
    "out_sample_rmses = []\n",
    "\n",
    "# open the file for writing\n",
    "file = open(\"results.txt\", \"w\")\n",
    "\n",
    "for leaf_size in leaf_sizes:\n",
    "    # train the learner\n",
    "    learner = DTLearner(leaf_size=leaf_size, verbose=False)\n",
    "    learner.add_evidence(train_x, train_y)\n",
    "    \n",
    "    # compute in-sample error\n",
    "    pred_y = learner.query(train_x)\n",
    "    in_sample_rmse = math.sqrt(((train_y - pred_y) ** 2).sum() / train_y.shape[0])\n",
    "    in_sample_rmses.append(in_sample_rmse)\n",
    "    \n",
    "    # compute out-of-sample error\n",
    "    pred_y = learner.query(test_x)\n",
    "    out_sample_rmse = math.sqrt(((test_y - pred_y) ** 2).sum() / test_y.shape[0])\n",
    "    out_sample_rmses.append(out_sample_rmse)\n",
    "\n",
    "    # write results to file\n",
    "    file.write(f\"Leaf size: {leaf_size}\\n\")\n",
    "    file.write(f\"In-sample RMSE: {in_sample_rmse}\\n\")\n",
    "    file.write(f\"Out-of-sample RMSE: {out_sample_rmse}\\n\")\n",
    "    file.write(\"\\n\")  # for readability\n",
    "\n",
    "file.close()\n",
    "\n",
    "# create a plot of the RMSE values\n",
    "plt.figure(figsize=(10, 6))\n",
    "plt.plot(leaf_sizes, in_sample_rmses, label=\"In-sample RMSE\")\n",
    "plt.plot(leaf_sizes, out_sample_rmses, label=\"Out-of-sample RMSE\")\n",
    "plt.xlabel(\"Leaf Size\")\n",
    "plt.ylabel(\"RMSE\")\n",
    "plt.legend()\n",
    "plt.title(\"RMSE vs Leaf Size in DTLearner\")\n",
    "plt.grid(True)\n",
    "\n",
    "# save the plot to a file\n",
    "plt.savefig(\"rmse_vs_leaf_size.png\")\n"
   ]
  },
  {
   "cell_type": "code",
   "execution_count": 2,
   "metadata": {},
   "outputs": [
    {
     "name": "stdout",
     "output_type": "stream",
     "text": [
      "DTLearner out of sample results:\n",
      "RMSE: 0.007288142047537807\n",
      "Correlation: 0.6972253041904284\n",
      "RTLearner out of sample results:\n",
      "RMSE: 0.007475376036754763\n",
      "Correlation: 0.660586808465725\n"
     ]
    }
   ],
   "source": [
    "import numpy as np\n",
    "import DTLearner as dt\n",
    "import RTLearner as rt\n",
    "\n",
    "if __name__ == \"__main__\":\n",
    "    # Read the data from the file\n",
    "    data = np.genfromtxt('Data/Istanbul.csv', delimiter=',', skip_header=1)\n",
    "\n",
    "    # Remove the first column (date-time)\n",
    "    data = data[:, 1:]\n",
    "\n",
    "    # Separate the features (X) and the target values (Y)\n",
    "    X = data[:, :-1]\n",
    "    Y = data[:, -1]\n",
    "\n",
    "    # Create DTLearner and RTLearner instances\n",
    "    dt_learner = dt.DTLearner(leaf_size=1, verbose=False)\n",
    "    rt_learner = rt.RTLearner(leaf_size=1, verbose=False)\n",
    "\n",
    "    # Train the learners with 60% of the data\n",
    "    train_size = int(0.6 * data.shape[0])\n",
    "    train_X = X[:train_size]\n",
    "    train_Y = Y[:train_size]\n",
    "    dt_learner.add_evidence(train_X, train_Y)\n",
    "    rt_learner.add_evidence(train_X, train_Y)\n",
    "\n",
    "    # Test the learners with the remaining 40% of the data\n",
    "    test_X = X[train_size:]\n",
    "    test_Y = Y[train_size:]\n",
    "    Y_pred_dt = dt_learner.query(test_X)\n",
    "    Y_pred_rt = rt_learner.query(test_X)\n",
    "\n",
    "    # Evaluate the models\n",
    "    rmse_dt = np.sqrt(((test_Y - Y_pred_dt) ** 2).mean())\n",
    "    corr_dt = np.corrcoef(test_Y, Y_pred_dt)[0, 1]\n",
    "    rmse_rt = np.sqrt(((test_Y - Y_pred_rt) ** 2).mean())\n",
    "    corr_rt = np.corrcoef(test_Y, Y_pred_rt)[0, 1]\n",
    "\n",
    "    print(\"DTLearner out of sample results:\")\n",
    "    print(f\"RMSE: {rmse_dt}\")\n",
    "    print(f\"Correlation: {corr_dt}\")\n",
    "\n",
    "    print(\"RTLearner out of sample results:\")\n",
    "    print(f\"RMSE: {rmse_rt}\")\n",
    "    print(f\"Correlation: {corr_rt}\")\n"
   ]
  },
  {
   "cell_type": "code",
   "execution_count": 3,
   "metadata": {},
   "outputs": [
    {
     "name": "stdout",
     "output_type": "stream",
     "text": [
      "DTLearner BagLearner out of sample results:\n",
      "RMSE: 0.00476754614526203\n",
      "Correlation: 0.8253738083252917\n",
      "----------------------------\n",
      "RTLearner BagLearner out of sample results:\n",
      "RMSE: 0.005095201394077022\n",
      "Correlation: 0.8136482880352421\n",
      "----------------------------\n",
      "LinRegLearner BagLearner out of sample results:\n",
      "RMSE: 0.0040602006992904085\n",
      "Correlation: 0.8890426790818324\n",
      "----------------------------\n"
     ]
    }
   ],
   "source": [
    "import numpy as np\n",
    "import DTLearner as dt\n",
    "import RTLearner as rt\n",
    "import LinRegLearner as lrl\n",
    "import BagLearner as bl\n",
    "\n",
    "if __name__ == \"__main__\":\n",
    "    # Read the data from the file\n",
    "    data = np.genfromtxt('Data/Istanbul.csv', delimiter=',', skip_header=1)\n",
    "\n",
    "    # Remove the first column (date-time)\n",
    "    data = data[:, 1:]\n",
    "\n",
    "    # Separate the features (X) and the target values (Y)\n",
    "    X = data[:, :-1]\n",
    "    Y = data[:, -1]\n",
    "\n",
    "    # Prepare training and testing data\n",
    "    train_size = int(0.6 * data.shape[0])\n",
    "    train_X = X[:train_size]\n",
    "    train_Y = Y[:train_size]\n",
    "    test_X = X[train_size:]\n",
    "    test_Y = Y[train_size:]\n",
    "\n",
    "    # Create a dictionary to hold the learners and their names\n",
    "    learners = {\n",
    "        \"DTLearner\": dt.DTLearner,\n",
    "        \"RTLearner\": rt.RTLearner,\n",
    "        \"LinRegLearner\": lrl.LinRegLearner\n",
    "    }\n",
    "\n",
    "    for name, learner in learners.items():\n",
    "        # Create a BagLearner with 10 instances of the learner\n",
    "        bag_learner = bl.BagLearner(learner=learner, kwargs={}, bags=10, boost=False, verbose=False)\n",
    "        \n",
    "        # Train the BagLearner\n",
    "        bag_learner.add_evidence(train_X, train_Y)\n",
    "\n",
    "        # Query the BagLearner\n",
    "        Y_pred = bag_learner.query(test_X)\n",
    "\n",
    "        # Evaluate the BagLearner\n",
    "        rmse = np.sqrt(((test_Y - Y_pred) ** 2).mean())\n",
    "        corr = np.corrcoef(test_Y, Y_pred)[0, 1]\n",
    "\n",
    "        print(f\"{name} BagLearner out of sample results:\")\n",
    "        print(f\"RMSE: {rmse}\")\n",
    "        print(f\"Correlation: {corr}\")\n",
    "        print(\"----------------------------\")\n"
   ]
  },
  {
   "cell_type": "code",
   "execution_count": 4,
   "metadata": {},
   "outputs": [],
   "source": [
    "Xtrain=train_X\n",
    "Ytrain=train_Y\n",
    "Xtest=test_X\n",
    "Ytest=test_Y"
   ]
  },
  {
   "cell_type": "code",
   "execution_count": 7,
   "metadata": {},
   "outputs": [],
   "source": [
    "import InsaneLearner as it\n",
    "\n",
    "# Initialize the InsaneLearner\n",
    "learner = it.InsaneLearner(verbose = False) \n",
    "\n",
    "# Train the learner\n",
    "learner.add_evidence(Xtrain, Ytrain)\n",
    "\n",
    "# Query the learner\n",
    "Y_pred_insane = learner.query(Xtest)\n"
   ]
  },
  {
   "cell_type": "code",
   "execution_count": 8,
   "metadata": {},
   "outputs": [],
   "source": [
    "import LinRegLearner as lrl\n",
    "import BagLearner as bl\n",
    "\n",
    "# Initialize the BagLearner with the same configuration as the InsaneLearner\n",
    "learner = bl.BagLearner(learner=bl.BagLearner, kwargs={\"learner\": lrl.LinRegLearner, \"kwargs\": {}, \"bags\": 20}, bags=20, boost=False, verbose=False)\n",
    "\n",
    "# Train the learner\n",
    "learner.add_evidence(Xtrain, Ytrain)\n",
    "\n",
    "# Query the learner\n",
    "Y_pred_bag = learner.query(Xtest)\n"
   ]
  },
  {
   "cell_type": "code",
   "execution_count": 9,
   "metadata": {},
   "outputs": [
    {
     "name": "stdout",
     "output_type": "stream",
     "text": [
      "InsaneLearner RMSE: 0.004004174459194699\n",
      "BagLearner RMSE: 0.0039952750656196785\n"
     ]
    }
   ],
   "source": [
    "# Calculate RMSE for InsaneLearner\n",
    "rmse_insane = np.sqrt(((Ytest - Y_pred_insane) ** 2).mean())\n",
    "print(f\"InsaneLearner RMSE: {rmse_insane}\")\n",
    "\n",
    "# Calculate RMSE for BagLearner\n",
    "rmse_bag = np.sqrt(((Ytest - Y_pred_bag) ** 2).mean())\n",
    "print(f\"BagLearner RMSE: {rmse_bag}\")"
   ]
  },
  {
   "cell_type": "code",
   "execution_count": 10,
   "metadata": {},
   "outputs": [
    {
     "name": "stdout",
     "output_type": "stream",
     "text": [
      "InsaneLearner R^2: 0.759316360675068\n",
      "BagLearner R^2: 0.7603850244883746\n"
     ]
    }
   ],
   "source": [
    "from sklearn.metrics import r2_score\n",
    "\n",
    "r2_insane = r2_score(Ytest, Y_pred_insane)\n",
    "print(f\"InsaneLearner R^2: {r2_insane}\")\n",
    "\n",
    "r2_bag = r2_score(Ytest, Y_pred_bag)\n",
    "print(f\"BagLearner R^2: {r2_bag}\")\n"
   ]
  },
  {
   "cell_type": "code",
   "execution_count": 11,
   "metadata": {},
   "outputs": [
    {
     "name": "stdout",
     "output_type": "stream",
     "text": [
      "Correlation Coefficient: 0.8893749200090458\n",
      "Correlation Coefficient: 0.8895580237835897\n"
     ]
    }
   ],
   "source": [
    "corr_coef1 = np.corrcoef(Ytest, Y_pred_insane)[0, 1]\n",
    "print(f\"Correlation Coefficient: {corr_coef1}\")\n",
    "corr_coef2 = np.corrcoef(Ytest, Y_pred_bag)[0, 1]\n",
    "print(f\"Correlation Coefficient: {corr_coef2}\")\n"
   ]
  }
 ],
 "metadata": {
  "kernelspec": {
   "display_name": "ml4t",
   "language": "python",
   "name": "python3"
  },
  "language_info": {
   "codemirror_mode": {
    "name": "ipython",
    "version": 3
   },
   "file_extension": ".py",
   "mimetype": "text/x-python",
   "name": "python",
   "nbconvert_exporter": "python",
   "pygments_lexer": "ipython3",
   "version": "3.10.9"
  },
  "orig_nbformat": 4
 },
 "nbformat": 4,
 "nbformat_minor": 2
}
