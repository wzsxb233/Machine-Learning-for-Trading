{
 "cells": [
  {
   "cell_type": "code",
   "execution_count": 12,
   "metadata": {},
   "outputs": [],
   "source": [
    "import numpy as np\n",
    "import DTLearner as dt\n",
    "import LinRegLearner as lrl"
   ]
  },
  {
   "cell_type": "code",
   "execution_count": 7,
   "metadata": {},
   "outputs": [],
   "source": [
    "def best_4_lin_reg(seed=1489683273):\n",
    "    np.random.seed(seed)\n",
    "    x = np.random.normal(size=(1000, 10))    \n",
    "    # Create a linear relationship between features and the target variable\n",
    "    y = 2*x[:,0] + 3*x[:,1] + 4*x[:,2] + 5*x[:,3] + 6*x[:,4] \\\n",
    "        + 7*x[:,5] + 8*x[:,6] + 9*x[:,7] + 10*x[:,8] + 11*x[:,9] + np.random.normal(size=1000)  \n",
    "    return x, y"
   ]
  },
  {
   "cell_type": "code",
   "execution_count": 65,
   "metadata": {},
   "outputs": [],
   "source": [
    "def best_4_dt(seed=1489683273):\n",
    "    np.random.seed(seed)\n",
    "    x = np.random.normal(size=(1000, 5))  # Reduced from 10 features to 5\n",
    "    # Binning the x values into categories\n",
    "    bins = np.linspace(-3, 3, 10)\n",
    "    digitized = np.digitize(x, bins)\n",
    "    # Generating y based on the category each x falls into\n",
    "    y = np.sin(digitized[:,0]) + np.cos(digitized[:,1]) + np.random.normal(size=1000)\n",
    "    return x, y"
   ]
  },
  {
   "cell_type": "code",
   "execution_count": 57,
   "metadata": {},
   "outputs": [],
   "source": [
    "def best_4_dt(seed=1489683273):\n",
    "    np.random.seed(seed)\n",
    "    x = np.random.uniform(-1, 1, size=(1000, 10))\n",
    "    \n",
    "    # Create a more complex relationship with multiple conditions\n",
    "    y = np.where((x[:,0] > 0) & (x[:,1] < 0), np.sin(x[:,2]**3), np.cos(x[:,3]**2)) + \\\n",
    "        np.where((x[:,4] > 0) & (x[:,5] < 0), np.sin(x[:,6]**2), np.cos(x[:,7]**3)) + \\\n",
    "        np.where((x[:,8] > 0) & (x[:,9] < 0), np.sin(x[:,9]**2), np.cos(x[:,9]**3))\n",
    "\n",
    "    \n",
    "    return x, y\n",
    "\n"
   ]
  },
  {
   "cell_type": "code",
   "execution_count": 63,
   "metadata": {},
   "outputs": [],
   "source": [
    "def best_4_dt(seed=1489683273):\n",
    "    np.random.seed(seed)\n",
    "    x = np.random.uniform(-1, 1, size=(1000, 5))  # Decreased the number of features from 10 to 5\n",
    "    \n",
    "    # Create a more complex relationship with multiple conditions\n",
    "    y = np.where((x[:,0] > 0) & (x[:,1] < 0), np.sin(x[:,2]**3), np.cos(x[:,3]**2)) + \\\n",
    "        np.where((x[:,4] > 0) & (x[:,1] < 0), np.sin(x[:,0]**2), np.cos(x[:,2]**3))\n",
    "\n",
    "    return x, y\n",
    "\n",
    "\n",
    "\n"
   ]
  },
  {
   "cell_type": "code",
   "execution_count": 66,
   "metadata": {},
   "outputs": [
    {
     "name": "stdout",
     "output_type": "stream",
     "text": [
      "Sklearn Decision Tree RMSE: 1.588692829622705\n",
      "Homemade Decision Tree RMSE: 1.6168098711177528\n",
      "Homemade Linear Regression RMSE: 1.3400050592435633\n"
     ]
    }
   ],
   "source": [
    "from sklearn.metrics import mean_squared_error\n",
    "from sklearn.tree import DecisionTreeRegressor\n",
    "from sklearn.linear_model import LinearRegression\n",
    "from sklearn.model_selection import train_test_split\n",
    "\n",
    "# Assuming we have these two custom classes\n",
    "# from custom_lr_learner import LRLearner\n",
    "# from custom_dt_learner import DTLearner\n",
    "\n",
    "# Generate the data\n",
    "x, y = best_4_dt(seed=511)\n",
    "\n",
    "# Split the data into training and testing sets\n",
    "x_train, x_test, y_train, y_test = train_test_split(x, y, test_size=0.2, random_state=42)\n",
    "\n",
    "# Sklearn's decision tree\n",
    "skl_dt = DecisionTreeRegressor(random_state=0)\n",
    "skl_dt.fit(x_train, y_train)\n",
    "skl_dt_preds = skl_dt.predict(x_test)\n",
    "print(f\"Sklearn Decision Tree RMSE: {np.sqrt(mean_squared_error(y_test, skl_dt_preds))}\")\n",
    "\n",
    "# Homemade decision tree\n",
    "dt_learner = dt.DTLearner(leaf_size=1)\n",
    "dt_learner.add_evidence(x_train, y_train)\n",
    "dt_preds = dt_learner.query(x_test)\n",
    "print(f\"Homemade Decision Tree RMSE: {np.sqrt(mean_squared_error(y_test, dt_preds))}\")\n",
    "\n",
    "# Homemade linear regression\n",
    "lr_learner = lrl.LinRegLearner()\n",
    "lr_learner.add_evidence(x_train, y_train)\n",
    "lr_preds = lr_learner.query(x_test)\n",
    "print(f\"Homemade Linear Regression RMSE: {np.sqrt(mean_squared_error(y_test, lr_preds))}\")\n"
   ]
  }
 ],
 "metadata": {
  "kernelspec": {
   "display_name": "base",
   "language": "python",
   "name": "python3"
  },
  "language_info": {
   "codemirror_mode": {
    "name": "ipython",
    "version": 3
   },
   "file_extension": ".py",
   "mimetype": "text/x-python",
   "name": "python",
   "nbconvert_exporter": "python",
   "pygments_lexer": "ipython3",
   "version": "3.10.9"
  },
  "orig_nbformat": 4
 },
 "nbformat": 4,
 "nbformat_minor": 2
}
