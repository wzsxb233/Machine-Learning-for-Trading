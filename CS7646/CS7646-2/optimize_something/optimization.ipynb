{
 "cells": [
  {
   "cell_type": "code",
   "execution_count": 87,
   "metadata": {},
   "outputs": [],
   "source": [
    "import datetime as dt\n",
    "import numpy as np\n",
    "import pandas as pd\n",
    "import matplotlib.pyplot as plt\n",
    "from scipy.optimize import minimize\n",
    "from util import get_data, plot_data\n",
    "import matplotlib.dates as mdates"
   ]
  },
  {
   "cell_type": "code",
   "execution_count": 44,
   "metadata": {},
   "outputs": [],
   "source": [
    "def fill_missing_values(df_data):\n",
    "    \"\"\"Fill missing values in data frame, in place.\"\"\"\n",
    "    df_data.fillna(method=\"ffill\", inplace=True)\n",
    "    df_data.fillna(method=\"bfill\", inplace=True)\n",
    "\n",
    "def compute_daily_returns(df):\n",
    "\t\"\"\"Compute and return the daily return values.\"\"\"\n",
    "\tdaily_returns = df.copy()\n",
    "\tdaily_returns[1:] = (df[1:] / df[:-1].values) - 1\n",
    "\tdaily_returns.iloc[0] = 0 # set daily returns for row 0 to 0\n",
    "\treturn daily_returns\n",
    "\n",
    "def calculate_sharpe_ratio(daily_returns):\n",
    "    \"\"\"Calculate the Sharpe ratio for a given allocation and daily returns.\"\"\"\n",
    "    k = np.sqrt(252)  # Assuming 252 trading days in a year\n",
    "    risk_free_rate = 0.0\n",
    "    adr = daily_returns.mean()\n",
    "    sddr = daily_returns.std()\n",
    "    sr = k * (adr - risk_free_rate) / sddr\n",
    "    return sr\n",
    "\n",
    "def calculate_portfolio_value(allocs, prices):\n",
    "    \"\"\"Calculate the portfolio value for a given allocation and price data.\"\"\"\n",
    "    normed = prices / prices.iloc[0]\n",
    "    alloced = normed * allocs\n",
    "    pos_vals = alloced.sum(axis=1)\n",
    "    return pos_vals"
   ]
  },
  {
   "cell_type": "code",
   "execution_count": 92,
   "metadata": {},
   "outputs": [],
   "source": [
    "def optimize_portfolio(sd=dt.datetime(2008, 6, 1), ed=dt.datetime(2009, 6, 1), syms=['IBM', 'X', 'GLD', 'JPM'], gen_plot=False):\n",
    "    # Read in adjusted closing prices for given symbols, date range\n",
    "    dates = pd.date_range(sd, ed)\n",
    "    prices_all = get_data(syms, dates)\n",
    "    fill_missing_values(prices_all)\n",
    "    prices = prices_all[syms]\n",
    "    prices_SPY = prices_all['SPY']\n",
    "\n",
    "    # Initial allocation guess (uniform allocation)\n",
    "    n = len(syms)\n",
    "    allocs = np.ones(n) / n\n",
    "\n",
    "    # Calculate daily returns\n",
    "    daily_returns = compute_daily_returns(prices)\n",
    "\n",
    "    # Define the objective function for optimization (negative Sharpe ratio)\n",
    "    def negative_sharpe_ratio(allocs, prices):\n",
    "        pos_vals = calculate_portfolio_value(allocs, prices)\n",
    "        port_returns = compute_daily_returns(pos_vals)\n",
    "        sr = calculate_sharpe_ratio(port_returns)\n",
    "        return -sr\n",
    "\n",
    "    # Set optimization constraints\n",
    "    bounds = [(0.0, 1.0) for _ in range(n)]\n",
    "    constraints = ({'type': 'eq', 'fun': lambda allocs: np.sum(allocs) - 1.0})\n",
    "\n",
    "    # Perform the optimization\n",
    "    result = minimize(negative_sharpe_ratio, allocs, args=(prices,), method='SLSQP', bounds=bounds, constraints=constraints)\n",
    "    allocs = np.round(result.x, decimals=6)\n",
    "\n",
    "    # Calculate portfolio statistics using the optimal allocations\n",
    "    pos_vals = calculate_portfolio_value(allocs, prices)\n",
    "    port_returns = compute_daily_returns(pos_vals)\n",
    "    cr = (pos_vals.iloc[-1] / pos_vals.iloc[0]) - 1\n",
    "    adr = daily_returns.mean()\n",
    "    sddr = daily_returns.std()\n",
    "    sr = calculate_sharpe_ratio(port_returns)\n",
    "\n",
    "    # Generate the plot if gen_plot is True\n",
    "    if gen_plot:\n",
    "        df_temp = pd.concat([pos_vals, prices_SPY], keys=['Portfolio', 'SPY'], axis=1)\n",
    "        df_normed = df_temp / df_temp.iloc[0]\n",
    "        ax = df_normed.plot(title='Daily Portfolio Value and SPY', fontsize=12)\n",
    "        ax.set_ylabel('Price')\n",
    "        ax.set_xlabel('Date')\n",
    "        ax.legend(loc='upper left')\n",
    "        \n",
    "        # Set x-axis ticks to show each month\n",
    "        ax.xaxis.set_major_locator(mdates.MonthLocator())\n",
    "        ax.xaxis.set_major_formatter(mdates.DateFormatter('%Y-%m'))\n",
    "        plt.savefig('./images/figure1.png')  # Save the plot to the \"images\" folder\n",
    "        plt.close()  # Close the plot to prevent it from showing\n",
    "\n",
    "\n",
    "    return allocs, cr, adr, sddr, sr\n"
   ]
  },
  {
   "cell_type": "code",
   "execution_count": 93,
   "metadata": {},
   "outputs": [
    {
     "name": "stdout",
     "output_type": "stream",
     "text": [
      "Start Date: 2009-01-01 00:00:00\n",
      "End Date: 2010-01-01 00:00:00\n",
      "Symbols: ['GOOG', 'AAPL', 'GLD', 'XOM', 'IBM']\n",
      "Allocations:[0.175123 0.401904 0.422973 0.       0.      ]\n",
      "Sharpe Ratio: 3.011800611871923\n",
      "Volatility (stdev of daily returns): GOOG    0.018852\n",
      "AAPL    0.021036\n",
      "GLD     0.013075\n",
      "XOM     0.016333\n",
      "IBM     0.017412\n",
      "dtype: float64\n",
      "Average Daily Return: GOOG    0.002788\n",
      "AAPL    0.003568\n",
      "GLD     0.000953\n",
      "XOM    -0.000490\n",
      "IBM     0.001833\n",
      "dtype: float64\n",
      "Cumulative Return: 0.7975537895375444\n"
     ]
    }
   ],
   "source": [
    "start_date = dt.datetime(2009, 1, 1)  \t\t  \t   \t\t  \t\t \t\t\t  \t\t \t\t\t \t \t \t\t \t\t \t\n",
    "end_date = dt.datetime(2010, 1, 1)  \t\t  \t   \t\t  \t\t \t\t\t  \t\t \t\t\t \t \t \t\t \t\t \t\n",
    "symbols = [\"GOOG\", \"AAPL\", \"GLD\", \"XOM\", \"IBM\"]  \t\t  \t   \t\t  \t\t \t\t\t  \t\t \t\t\t \t \t \t\t \t\t \t\n",
    "  \t\t  \t   \t\t  \t\t \t\t\t  \t\t \t\t\t \t \t \t\t \t\t \t\n",
    "# Assess the portfolio  \t\t  \t   \t\t  \t\t \t\t\t  \t\t \t\t\t \t \t \t\t \t\t \t\n",
    "allocations, cr, adr, sddr, sr = optimize_portfolio(  \t\t  \t   \t\t  \t\t \t\t\t  \t\t \t\t\t \t \t \t\t \t\t \t\n",
    "    sd=start_date, ed=end_date, syms=symbols, gen_plot=True  \t\t  \t   \t\t  \t\t \t\t\t  \t\t \t\t\t \t \t \t\t \t\t \t\n",
    ")\n",
    "print(f\"Start Date: {start_date}\")  \t\t  \t   \t\t  \t\t \t\t\t  \t\t \t\t\t \t \t \t\t \t\t \t\n",
    "print(f\"End Date: {end_date}\")  \t\t  \t   \t\t  \t\t \t\t\t  \t\t \t\t\t \t \t \t\t \t\t \t\n",
    "print(f\"Symbols: {symbols}\")  \t\t  \t   \t\t  \t\t \t\t\t  \t\t \t\t\t \t \t \t\t \t\t \t\n",
    "print(f\"Allocations:{allocations}\")  \t\t  \t   \t\t  \t\t \t\t\t  \t\t \t\t\t \t \t \t\t \t\t \t\n",
    "print(f\"Sharpe Ratio: {sr}\")  \t\t  \t   \t\t  \t\t \t\t\t  \t\t \t\t\t \t \t \t\t \t\t \t\n",
    "print(f\"Volatility (stdev of daily returns): {sddr}\")  \t\t  \t   \t\t  \t\t \t\t\t  \t\t \t\t\t \t \t \t\t \t\t \t\n",
    "print(f\"Average Daily Return: {adr}\")  \t\t  \t   \t\t  \t\t \t\t\t  \t\t \t\t\t \t \t \t\t \t\t \t\n",
    "print(f\"Cumulative Return: {cr}\") "
   ]
  },
  {
   "cell_type": "code",
   "execution_count": 94,
   "metadata": {},
   "outputs": [
    {
     "name": "stdout",
     "output_type": "stream",
     "text": [
      "<class 'tuple'>\n"
     ]
    }
   ],
   "source": [
    "print(type(optimize_portfolio(sd=start_date, ed=end_date, syms=symbols, gen_plot=False))) "
   ]
  },
  {
   "cell_type": "code",
   "execution_count": 46,
   "metadata": {},
   "outputs": [
    {
     "name": "stdout",
     "output_type": "stream",
     "text": [
      "2009-01-02    0.000000\n",
      "2009-01-05   -0.000450\n",
      "2009-01-06   -0.001202\n",
      "2009-01-07   -0.028628\n",
      "2009-01-08    0.008890\n",
      "                ...   \n",
      "2009-12-24    0.007450\n",
      "2009-12-28    0.004096\n",
      "2009-12-29   -0.003618\n",
      "2009-12-30   -0.000130\n",
      "2009-12-31   -0.006962\n",
      "Length: 252, dtype: float64\n",
      "                 SPY       XOM      GOOG       GLD\n",
      "2009-01-02  0.000000  0.000000  0.000000  0.000000\n",
      "2009-01-05 -0.001152 -0.000134  0.020945 -0.020295\n",
      "2009-01-06  0.006690 -0.016248  0.018320  0.007694\n",
      "2009-01-07 -0.029904 -0.025526 -0.036071 -0.027957\n",
      "2009-01-08  0.004016  0.010646  0.009875  0.020665\n",
      "...              ...       ...       ...       ...\n",
      "2009-12-24  0.004675  0.005965  0.011117  0.016987\n",
      "2009-12-28  0.002140  0.006085  0.007098  0.001753\n",
      "2009-12-29 -0.001393 -0.003412 -0.005571 -0.009949\n",
      "2009-12-30 -0.000372 -0.001089  0.005376 -0.005025\n",
      "2009-12-31 -0.009581 -0.008413 -0.004416  0.003554\n",
      "\n",
      "[252 rows x 4 columns]\n",
      "SPY     0.903706\n",
      "XOM    -0.476652\n",
      "GOOG    2.347641\n",
      "GLD     1.157551\n",
      "dtype: float64\n"
     ]
    }
   ],
   "source": [
    "start_val = 1000000\n",
    "start_date = 2009-1-1\n",
    "end_date = 2011-12-31\n",
    "syms = ['SPY', 'XOM', 'GOOG', 'GLD']\n",
    "allocs = [0.4, 0.4, 0.1, 0.1]\n",
    "dates = pd.date_range(sd, ed)\n",
    "prices_all = get_data(syms, dates)\n",
    "fill_missing_values(prices_all)\n",
    "prices = prices_all[syms]\n",
    "prices_SPY = prices_all['SPY']\n",
    "port_returns = calculate_portfolio_value(allocs, prices)\n",
    "port_returns = compute_daily_returns(port_returns)\n",
    "daily_returns = compute_daily_returns(prices_all)\n",
    "print(port_returns)\n",
    "print(daily_returns)\n",
    "print(calculate_sharpe_ratio(daily_returns))"
   ]
  },
  {
   "cell_type": "code",
   "execution_count": 95,
   "metadata": {},
   "outputs": [],
   "source": [
    "    k = np.sqrt(252)  # Assuming 252 trading days in a year\n",
    "    risk_free_rate = 0.0\n",
    "    adr = 0.003\n",
    "    sddr = 0.01\n",
    "    sr = k * (adr - risk_free_rate) / sddr"
   ]
  },
  {
   "cell_type": "code",
   "execution_count": 96,
   "metadata": {},
   "outputs": [
    {
     "name": "stdout",
     "output_type": "stream",
     "text": [
      "4.762352359916264\n"
     ]
    }
   ],
   "source": [
    "print(sr)"
   ]
  }
 ],
 "metadata": {
  "kernelspec": {
   "display_name": "ml4t",
   "language": "python",
   "name": "python3"
  },
  "language_info": {
   "codemirror_mode": {
    "name": "ipython",
    "version": 3
   },
   "file_extension": ".py",
   "mimetype": "text/x-python",
   "name": "python",
   "nbconvert_exporter": "python",
   "pygments_lexer": "ipython3",
   "version": "3.10.9"
  },
  "orig_nbformat": 4
 },
 "nbformat": 4,
 "nbformat_minor": 2
}
